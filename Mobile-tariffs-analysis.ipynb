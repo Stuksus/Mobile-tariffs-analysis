{
 "cells": [
  {
   "cell_type": "markdown",
   "metadata": {},
   "source": [
    "## Содержание\n",
    "- [Введение](#intro)\n",
    "    - [Тарифы](#rates)\n",
    "- [Импортирование необходимых данных](#import)\n",
    "- [Изучение данных](#analysis)\n",
    "    - [Изучим типы и наличие пропусков с данных](#types_and_null_values)\n",
    "    - [Изменим типы](#change_type)\n",
    "    - [Заполним пропуски](#fillna)\n",
    "- [Сбор статистики](#get_stat)\n",
    "- [Анализ собраных данных](#analysis_stat)\n",
    "    - [Графики](#graph)\n",
    "- [Проверка гипотез](#hypothesis)\n",
    "    - [Первая гипотеза](#first_hypothesis)\n",
    "    - [Вторая гипотеза](#second_hypothesis)\n",
    "- [Вывод](#Summary)"
   ]
  },
  {
   "cell_type": "markdown",
   "metadata": {},
   "source": [
    "## <a class=\"anchor\" id='intro'></a>Введение "
   ]
  },
  {
   "cell_type": "markdown",
   "metadata": {},
   "source": [
    "Заказчик — коммерческий департамент компании «Мегалайн». Исследование направленное на определение тарифа, сильнее всего влияющего на доход компании. Сравнение будет проводиться между тарифами «Смарт» и «Ультра». Результат исследования будет использоваться для корректирования рекламного бюджета."
   ]
  },
  {
   "cell_type": "markdown",
   "metadata": {},
   "source": [
    "<html>\n",
    "    <body>\n",
    "        <div class=\"anchor\" id = 'rates'>\n",
    "            <h2 style = \"text-align: center;padding-bottom: 20px;\">Тарифы</h2>\n",
    "            <div style=\"float:left;width: 49%;\"> \n",
    "                <h3>Тариф «Смарт»</h3>\n",
    "                <ol>\n",
    "                    <li>Ежемесячная плата: 550 рублей</li>\n",
    "                    <li>В тариф включено:</li>\n",
    "                    <ul>\n",
    "                        <li>500 минут разговора</li>\n",
    "                        <li>50 сообщений</li>\n",
    "                        <li>15 Гб интернет-трафика</li>\n",
    "                    </ul>\n",
    "                    <li>Стоимость услуг сверх тарифного пакета:</li>\n",
    "                    <ul>\n",
    "                        <li>минута разговора: 3 рубля</li>\n",
    "                        <li>сообщение: 3 рубля</li>\n",
    "                        <li>1 Гб интернет-трафика: 200 рублей</li>\n",
    "                    </ul>\n",
    "                </ol>\n",
    "            </div>\n",
    "            <div style = \"margin-left: 55%;\"> \n",
    "                <h3>Тариф «Ультра»</h3>\n",
    "                <ol>\n",
    "                    <li>Ежемесячная плата: 1950 рублей</li>\n",
    "                    <li>В тариф включено: </li>\n",
    "                    <ul>\n",
    "                        <li>3000 минут разговора</li>\n",
    "                        <li>1000 сообщений</li>\n",
    "                        <li>30 Гб интернет-трафика</li>\n",
    "                    </ul>\n",
    "                    <li>Стоимость услуг сверх тарифного пакета:</li>\n",
    "                    <ul>\n",
    "                        <li>минута разговора: 1 рубль</li>\n",
    "                        <li>сообщение: 1 рубль</li>\n",
    "                        <li>1 Гб интернет-трафика: 150 рублей</li>\n",
    "                    </ul>\n",
    "                </ol>\n",
    "            </div>\n",
    "        </div>\n",
    "    </body>\n",
    "</html>"
   ]
  },
  {
   "cell_type": "markdown",
   "metadata": {},
   "source": [
    "## Импортирование необходимых данных\n",
    "<a class=\"anchor\" id = 'import'></a>"
   ]
  },
  {
   "cell_type": "code",
   "execution_count": 1,
   "metadata": {},
   "outputs": [],
   "source": [
    "import pandas as pd\n",
    "import numpy as np\n",
    "import scipy.stats as st\n",
    "import datetime\n",
    "from tqdm import tqdm\n",
    "import matplotlib.pyplot as plt\n",
    "calls = pd.read_csv('calls.csv')\n",
    "internet = pd.read_csv('internet.csv').drop(['Unnamed: 0'],axis = 1)\n",
    "messages = pd.read_csv('messages.csv')\n",
    "tariffs = pd.read_csv('tariffs.csv')\n",
    "users = pd.read_csv('users.csv')"
   ]
  },
  {
   "cell_type": "markdown",
   "metadata": {},
   "source": [
    "## Изучение данных\n",
    "<a class=\"anchor\" id = 'analysis'></a>"
   ]
  },
  {
   "cell_type": "markdown",
   "metadata": {},
   "source": [
    "### Изучим типы и наличие пропусков с данных\n",
    "<a class=\"anchor\" id = 'types_and_null_values'></a>"
   ]
  },
  {
   "cell_type": "code",
   "execution_count": 2,
   "metadata": {},
   "outputs": [],
   "source": [
    "#Создадим словарь соответствия фрейма и его имени\n",
    "dictionary_with_frames ={\n",
    "    'calls': calls,\n",
    "    'internet': internet,\n",
    "    'messages': messages,\n",
    "    'tariffs': tariffs,\n",
    "    'users': users \n",
    "}"
   ]
  },
  {
   "cell_type": "markdown",
   "metadata": {},
   "source": [
    "Для того что бы не вызывать метод info() для каждого фрейма, создадим функцию агрегирующую необходимую информацию в одну таблицу"
   ]
  },
  {
   "cell_type": "code",
   "execution_count": 3,
   "metadata": {},
   "outputs": [],
   "source": [
    "def get_stat(dict_of_frames):\n",
    "    \"\"\"Функция для агрегации данных о нескольких загруженных таблицах.\n",
    "    Собирает следующею информацию: количесво объектов(строк) в данных,\n",
    "    количесвто null-значений и тип каждого столбца\n",
    "    \"\"\"\n",
    "    def table(dataframe, name):\n",
    "        \"\"\"Функция отвечающая за создание промежуточных таблиц,\n",
    "        собирая данные из конкретного переданного фрейма\n",
    "        \"\"\"\n",
    "        columns = dataframe.columns\n",
    "        count_of_rows = len(columns)\n",
    "        total = dataframe.shape[0]\n",
    "        \n",
    "        part_total_table = pd.DataFrame(data =[[0] * 5] * count_of_rows, \n",
    "                                        columns = ['total',\n",
    "                                                   'frame',\n",
    "                                                   \"columns\",\n",
    "                                                   \"null_values\",\n",
    "                                                   \"type\"])\n",
    "    \n",
    "        part_total_table['total'] = [total] * count_of_rows\n",
    "        part_total_table['frame'] = [name] * count_of_rows\n",
    "        part_total_table['columns'] = columns\n",
    "        \n",
    "        for column in columns:\n",
    "            curent_type = str(dataframe[column].dtype)\n",
    "            count_of_null = dataframe[column].isnull().sum()\n",
    "            part_total_table.loc[part_total_table['columns'] == column,'null_values'] = count_of_null\n",
    "            part_total_table.loc[part_total_table['columns'] == column,'type'] = curent_type\n",
    "        return part_total_table\n",
    "        \n",
    "    final_frame = pd.DataFrame(columns = ['total','frame',\"columns\",\"null_values\",\"type\"])\n",
    "    \n",
    "    for name,frame in dict_of_frames.items():\n",
    "        part_of_table = table(frame,name)\n",
    "        final_frame = final_frame.append(part_of_table)\n",
    "        \n",
    "    final_frame = final_frame.reset_index(drop = True)\n",
    "    final_frame_grouped = final_frame.groupby(['total','frame',\"columns\"]).sum()\n",
    "    \n",
    "    return final_frame_grouped"
   ]
  },
  {
   "cell_type": "code",
   "execution_count": 4,
   "metadata": {
    "scrolled": true
   },
   "outputs": [
    {
     "data": {
      "text/html": [
       "<div>\n",
       "<style scoped>\n",
       "    .dataframe tbody tr th:only-of-type {\n",
       "        vertical-align: middle;\n",
       "    }\n",
       "\n",
       "    .dataframe tbody tr th {\n",
       "        vertical-align: top;\n",
       "    }\n",
       "\n",
       "    .dataframe thead th {\n",
       "        text-align: right;\n",
       "    }\n",
       "</style>\n",
       "<table border=\"1\" class=\"dataframe\">\n",
       "  <thead>\n",
       "    <tr style=\"text-align: right;\">\n",
       "      <th></th>\n",
       "      <th></th>\n",
       "      <th></th>\n",
       "      <th>null_values</th>\n",
       "      <th>type</th>\n",
       "    </tr>\n",
       "    <tr>\n",
       "      <th>total</th>\n",
       "      <th>frame</th>\n",
       "      <th>columns</th>\n",
       "      <th></th>\n",
       "      <th></th>\n",
       "    </tr>\n",
       "  </thead>\n",
       "  <tbody>\n",
       "    <tr>\n",
       "      <th rowspan=\"8\" valign=\"top\">2</th>\n",
       "      <th rowspan=\"8\" valign=\"top\">tariffs</th>\n",
       "      <th>mb_per_month_included</th>\n",
       "      <td>0</td>\n",
       "      <td>int64</td>\n",
       "    </tr>\n",
       "    <tr>\n",
       "      <th>messages_included</th>\n",
       "      <td>0</td>\n",
       "      <td>int64</td>\n",
       "    </tr>\n",
       "    <tr>\n",
       "      <th>minutes_included</th>\n",
       "      <td>0</td>\n",
       "      <td>int64</td>\n",
       "    </tr>\n",
       "    <tr>\n",
       "      <th>rub_monthly_fee</th>\n",
       "      <td>0</td>\n",
       "      <td>int64</td>\n",
       "    </tr>\n",
       "    <tr>\n",
       "      <th>rub_per_gb</th>\n",
       "      <td>0</td>\n",
       "      <td>int64</td>\n",
       "    </tr>\n",
       "    <tr>\n",
       "      <th>rub_per_message</th>\n",
       "      <td>0</td>\n",
       "      <td>int64</td>\n",
       "    </tr>\n",
       "    <tr>\n",
       "      <th>rub_per_minute</th>\n",
       "      <td>0</td>\n",
       "      <td>int64</td>\n",
       "    </tr>\n",
       "    <tr>\n",
       "      <th>tariff_name</th>\n",
       "      <td>0</td>\n",
       "      <td>object</td>\n",
       "    </tr>\n",
       "    <tr>\n",
       "      <th rowspan=\"8\" valign=\"top\">500</th>\n",
       "      <th rowspan=\"8\" valign=\"top\">users</th>\n",
       "      <th>age</th>\n",
       "      <td>0</td>\n",
       "      <td>int64</td>\n",
       "    </tr>\n",
       "    <tr>\n",
       "      <th>churn_date</th>\n",
       "      <td>462</td>\n",
       "      <td>object</td>\n",
       "    </tr>\n",
       "    <tr>\n",
       "      <th>city</th>\n",
       "      <td>0</td>\n",
       "      <td>object</td>\n",
       "    </tr>\n",
       "    <tr>\n",
       "      <th>first_name</th>\n",
       "      <td>0</td>\n",
       "      <td>object</td>\n",
       "    </tr>\n",
       "    <tr>\n",
       "      <th>last_name</th>\n",
       "      <td>0</td>\n",
       "      <td>object</td>\n",
       "    </tr>\n",
       "    <tr>\n",
       "      <th>reg_date</th>\n",
       "      <td>0</td>\n",
       "      <td>object</td>\n",
       "    </tr>\n",
       "    <tr>\n",
       "      <th>tariff</th>\n",
       "      <td>0</td>\n",
       "      <td>object</td>\n",
       "    </tr>\n",
       "    <tr>\n",
       "      <th>user_id</th>\n",
       "      <td>0</td>\n",
       "      <td>int64</td>\n",
       "    </tr>\n",
       "    <tr>\n",
       "      <th rowspan=\"3\" valign=\"top\">123036</th>\n",
       "      <th rowspan=\"3\" valign=\"top\">messages</th>\n",
       "      <th>id</th>\n",
       "      <td>0</td>\n",
       "      <td>object</td>\n",
       "    </tr>\n",
       "    <tr>\n",
       "      <th>message_date</th>\n",
       "      <td>0</td>\n",
       "      <td>object</td>\n",
       "    </tr>\n",
       "    <tr>\n",
       "      <th>user_id</th>\n",
       "      <td>0</td>\n",
       "      <td>int64</td>\n",
       "    </tr>\n",
       "    <tr>\n",
       "      <th rowspan=\"4\" valign=\"top\">149396</th>\n",
       "      <th rowspan=\"4\" valign=\"top\">internet</th>\n",
       "      <th>id</th>\n",
       "      <td>0</td>\n",
       "      <td>object</td>\n",
       "    </tr>\n",
       "    <tr>\n",
       "      <th>mb_used</th>\n",
       "      <td>0</td>\n",
       "      <td>float64</td>\n",
       "    </tr>\n",
       "    <tr>\n",
       "      <th>session_date</th>\n",
       "      <td>0</td>\n",
       "      <td>object</td>\n",
       "    </tr>\n",
       "    <tr>\n",
       "      <th>user_id</th>\n",
       "      <td>0</td>\n",
       "      <td>int64</td>\n",
       "    </tr>\n",
       "    <tr>\n",
       "      <th rowspan=\"4\" valign=\"top\">202607</th>\n",
       "      <th rowspan=\"4\" valign=\"top\">calls</th>\n",
       "      <th>call_date</th>\n",
       "      <td>0</td>\n",
       "      <td>object</td>\n",
       "    </tr>\n",
       "    <tr>\n",
       "      <th>duration</th>\n",
       "      <td>0</td>\n",
       "      <td>float64</td>\n",
       "    </tr>\n",
       "    <tr>\n",
       "      <th>id</th>\n",
       "      <td>0</td>\n",
       "      <td>object</td>\n",
       "    </tr>\n",
       "    <tr>\n",
       "      <th>user_id</th>\n",
       "      <td>0</td>\n",
       "      <td>int64</td>\n",
       "    </tr>\n",
       "  </tbody>\n",
       "</table>\n",
       "</div>"
      ],
      "text/plain": [
       "                                       null_values     type\n",
       "total  frame    columns                                    \n",
       "2      tariffs  mb_per_month_included            0    int64\n",
       "                messages_included                0    int64\n",
       "                minutes_included                 0    int64\n",
       "                rub_monthly_fee                  0    int64\n",
       "                rub_per_gb                       0    int64\n",
       "                rub_per_message                  0    int64\n",
       "                rub_per_minute                   0    int64\n",
       "                tariff_name                      0   object\n",
       "500    users    age                              0    int64\n",
       "                churn_date                     462   object\n",
       "                city                             0   object\n",
       "                first_name                       0   object\n",
       "                last_name                        0   object\n",
       "                reg_date                         0   object\n",
       "                tariff                           0   object\n",
       "                user_id                          0    int64\n",
       "123036 messages id                               0   object\n",
       "                message_date                     0   object\n",
       "                user_id                          0    int64\n",
       "149396 internet id                               0   object\n",
       "                mb_used                          0  float64\n",
       "                session_date                     0   object\n",
       "                user_id                          0    int64\n",
       "202607 calls    call_date                        0   object\n",
       "                duration                         0  float64\n",
       "                id                               0   object\n",
       "                user_id                          0    int64"
      ]
     },
     "execution_count": 4,
     "metadata": {},
     "output_type": "execute_result"
    }
   ],
   "source": [
    "get_stat(dictionary_with_frames)"
   ]
  },
  {
   "cell_type": "markdown",
   "metadata": {},
   "source": [
    "### Изменим типы <a class=\"anchor\" id = 'change_type'></a>"
   ]
  },
  {
   "cell_type": "markdown",
   "metadata": {},
   "source": [
    "Заметим, что в данных присутсвуют пропуски в таблице users столбец churn_date содержит 462 пропущенных значений, которые нужно заменить на значение означающее, что тариф ативен.\n",
    "Необходимо изменить тип у следующих столбцов:\n",
    "1. users\n",
    "     1. churn_date на datetime\n",
    "     1. reg_date на datetime\n",
    "1. messages\n",
    "    1. message_date на datetime\n",
    "1. internet\n",
    "    1. session_date на datetime\n",
    "1. calls\n",
    "    1. call_date на datetime"
   ]
  },
  {
   "cell_type": "markdown",
   "metadata": {},
   "source": [
    "Приведем необходимые столбцы к типу datetime"
   ]
  },
  {
   "cell_type": "code",
   "execution_count": 5,
   "metadata": {},
   "outputs": [],
   "source": [
    "columns_to_datetime = {\"reg_date\":users,\n",
    "                       \"message_date\":messages,\n",
    "                       \"session_date\":internet,\n",
    "                       \"call_date\":calls}\n",
    "\n",
    "for column, frame in columns_to_datetime.items():\n",
    "    frame[column] = pd.to_datetime(frame[column],format = '%Y-%m-%d')"
   ]
  },
  {
   "cell_type": "markdown",
   "metadata": {},
   "source": [
    "Пропуски в таблице users столбец churn_date заполним по принципу, что основном люди не живут дольше 100 лет, следовательно в этом возрасте человек точно прекратит пользоваться услугами компании.Прибавим к текущей дате разницу между 100 и возрастом абонента и заполним этим значением пропуски"
   ]
  },
  {
   "cell_type": "markdown",
   "metadata": {},
   "source": [
    "### Заполним пропуски <a class=\"anchor\" id = 'fillna'></a>"
   ]
  },
  {
   "cell_type": "code",
   "execution_count": 6,
   "metadata": {},
   "outputs": [],
   "source": [
    "def fillna_churn_date(row):\n",
    "    \"\"\"Функция для генерации значений необходимых для\n",
    "    заполнения пропушенных данных в столбце churn_date\n",
    "    \"\"\"\n",
    "    if pd.isnull(row[\"churn_date\"]):\n",
    "        MAX_YEARS = 100\n",
    "        delta = MAX_YEARS - row['age'] \n",
    "        date = str(2020 + delta)+'-08-26'\n",
    "        row[\"churn_date\"] = pd.to_datetime(date,format = '%Y-%m-%d')\n",
    "    return row"
   ]
  },
  {
   "cell_type": "code",
   "execution_count": 7,
   "metadata": {},
   "outputs": [],
   "source": [
    "users = users.apply(fillna_churn_date, axis = 1)"
   ]
  },
  {
   "cell_type": "markdown",
   "metadata": {},
   "source": [
    "Все ошибки по значениям исправлены"
   ]
  },
  {
   "cell_type": "markdown",
   "metadata": {},
   "source": [
    "## Сбор статистики <a class=\"anchor\" id = 'get_stat'></a>"
   ]
  },
  {
   "cell_type": "markdown",
   "metadata": {},
   "source": [
    "Создадим столбцы хранящие в себе значение месяцев, когда произошло событие"
   ]
  },
  {
   "cell_type": "code",
   "execution_count": 8,
   "metadata": {},
   "outputs": [],
   "source": [
    "calls['month'] = calls[\"call_date\"].dt.month"
   ]
  },
  {
   "cell_type": "code",
   "execution_count": 9,
   "metadata": {},
   "outputs": [],
   "source": [
    "messages['month'] = messages[\"message_date\"].dt.month"
   ]
  },
  {
   "cell_type": "code",
   "execution_count": 10,
   "metadata": {},
   "outputs": [],
   "source": [
    "internet['month'] = internet['session_date'].dt.month"
   ]
  },
  {
   "cell_type": "markdown",
   "metadata": {},
   "source": [
    "Соберем статистику по предоставленным данным для дальнейшего анализа "
   ]
  },
  {
   "cell_type": "code",
   "execution_count": 11,
   "metadata": {
    "scrolled": true
   },
   "outputs": [],
   "source": [
    "statistic_frame = pd.DataFrame(columns= ['user_id',\n",
    "                                    \"month\",\n",
    "                                    \"count_calls\",\n",
    "                                    'calls_total_duration',\n",
    "                                    'count_messages',\n",
    "                                    'total_mb_used'\n",
    "                                   ])\n",
    "for idx in users['user_id']:\n",
    "    for month_x in range(1,13):\n",
    "        if ((month_x in calls.query('user_id == @idx')['month'].to_numpy()) or\n",
    "            (month_x in messages.query('user_id == @idx')['month'].to_numpy())):\n",
    "            \n",
    "            count_calls = calls.query('user_id == @idx and month == @month_x').shape[0]\n",
    "            total_duration_calls = calls.query('user_id == @idx and month == @month_x')['duration'].sum()\n",
    "            count_messages = messages.query('user_id == @idx and month == @month_x').shape[0]\n",
    "            total_used = internet.query('user_id == @idx and month == @month_x')['mb_used'].sum()\n",
    "            \n",
    "            statistic_frame = statistic_frame.append({'user_id':idx,\n",
    "                               'month':month_x,             \n",
    "                               \"count_calls\":count_calls,\n",
    "                               'calls_total_duration':total_duration_calls,\n",
    "                               'count_messages':count_messages,\n",
    "                               'total_mb_used':total_used             \n",
    "                                           }, ignore_index=True)"
   ]
  },
  {
   "cell_type": "code",
   "execution_count": 12,
   "metadata": {},
   "outputs": [],
   "source": [
    "statistic_frame['user_id'] = statistic_frame['user_id'].astype('int')"
   ]
  },
  {
   "cell_type": "markdown",
   "metadata": {},
   "source": [
    "Добавим в таблицу значение тарифа и города"
   ]
  },
  {
   "cell_type": "code",
   "execution_count": 13,
   "metadata": {},
   "outputs": [],
   "source": [
    "statistic_frame = statistic_frame.merge(users[['user_id','tariff']], on = 'user_id')\n",
    "statistic_frame = statistic_frame.merge(users[['user_id','city']], on = 'user_id')"
   ]
  },
  {
   "cell_type": "code",
   "execution_count": 14,
   "metadata": {},
   "outputs": [
    {
     "data": {
      "text/html": [
       "<div>\n",
       "<style scoped>\n",
       "    .dataframe tbody tr th:only-of-type {\n",
       "        vertical-align: middle;\n",
       "    }\n",
       "\n",
       "    .dataframe tbody tr th {\n",
       "        vertical-align: top;\n",
       "    }\n",
       "\n",
       "    .dataframe thead th {\n",
       "        text-align: right;\n",
       "    }\n",
       "</style>\n",
       "<table border=\"1\" class=\"dataframe\">\n",
       "  <thead>\n",
       "    <tr style=\"text-align: right;\">\n",
       "      <th></th>\n",
       "      <th>user_id</th>\n",
       "      <th>month</th>\n",
       "      <th>count_calls</th>\n",
       "      <th>calls_total_duration</th>\n",
       "      <th>count_messages</th>\n",
       "      <th>total_mb_used</th>\n",
       "      <th>tariff</th>\n",
       "      <th>city</th>\n",
       "    </tr>\n",
       "  </thead>\n",
       "  <tbody>\n",
       "    <tr>\n",
       "      <th>0</th>\n",
       "      <td>1000</td>\n",
       "      <td>5.0</td>\n",
       "      <td>22.0</td>\n",
       "      <td>150.06</td>\n",
       "      <td>22.0</td>\n",
       "      <td>2253.49</td>\n",
       "      <td>ultra</td>\n",
       "      <td>Краснодар</td>\n",
       "    </tr>\n",
       "    <tr>\n",
       "      <th>1</th>\n",
       "      <td>1000</td>\n",
       "      <td>6.0</td>\n",
       "      <td>43.0</td>\n",
       "      <td>158.90</td>\n",
       "      <td>60.0</td>\n",
       "      <td>23233.77</td>\n",
       "      <td>ultra</td>\n",
       "      <td>Краснодар</td>\n",
       "    </tr>\n",
       "    <tr>\n",
       "      <th>2</th>\n",
       "      <td>1000</td>\n",
       "      <td>7.0</td>\n",
       "      <td>47.0</td>\n",
       "      <td>318.80</td>\n",
       "      <td>75.0</td>\n",
       "      <td>14003.64</td>\n",
       "      <td>ultra</td>\n",
       "      <td>Краснодар</td>\n",
       "    </tr>\n",
       "    <tr>\n",
       "      <th>3</th>\n",
       "      <td>1000</td>\n",
       "      <td>8.0</td>\n",
       "      <td>52.0</td>\n",
       "      <td>389.87</td>\n",
       "      <td>81.0</td>\n",
       "      <td>14055.93</td>\n",
       "      <td>ultra</td>\n",
       "      <td>Краснодар</td>\n",
       "    </tr>\n",
       "    <tr>\n",
       "      <th>4</th>\n",
       "      <td>1000</td>\n",
       "      <td>9.0</td>\n",
       "      <td>58.0</td>\n",
       "      <td>440.14</td>\n",
       "      <td>57.0</td>\n",
       "      <td>14568.91</td>\n",
       "      <td>ultra</td>\n",
       "      <td>Краснодар</td>\n",
       "    </tr>\n",
       "    <tr>\n",
       "      <th>...</th>\n",
       "      <td>...</td>\n",
       "      <td>...</td>\n",
       "      <td>...</td>\n",
       "      <td>...</td>\n",
       "      <td>...</td>\n",
       "      <td>...</td>\n",
       "      <td>...</td>\n",
       "      <td>...</td>\n",
       "    </tr>\n",
       "    <tr>\n",
       "      <th>3208</th>\n",
       "      <td>1498</td>\n",
       "      <td>10.0</td>\n",
       "      <td>41.0</td>\n",
       "      <td>232.63</td>\n",
       "      <td>42.0</td>\n",
       "      <td>20579.36</td>\n",
       "      <td>smart</td>\n",
       "      <td>Владикавказ</td>\n",
       "    </tr>\n",
       "    <tr>\n",
       "      <th>3209</th>\n",
       "      <td>1499</td>\n",
       "      <td>9.0</td>\n",
       "      <td>9.0</td>\n",
       "      <td>64.65</td>\n",
       "      <td>11.0</td>\n",
       "      <td>1845.75</td>\n",
       "      <td>smart</td>\n",
       "      <td>Пермь</td>\n",
       "    </tr>\n",
       "    <tr>\n",
       "      <th>3210</th>\n",
       "      <td>1499</td>\n",
       "      <td>10.0</td>\n",
       "      <td>68.0</td>\n",
       "      <td>429.91</td>\n",
       "      <td>48.0</td>\n",
       "      <td>17788.51</td>\n",
       "      <td>smart</td>\n",
       "      <td>Пермь</td>\n",
       "    </tr>\n",
       "    <tr>\n",
       "      <th>3211</th>\n",
       "      <td>1499</td>\n",
       "      <td>11.0</td>\n",
       "      <td>74.0</td>\n",
       "      <td>576.50</td>\n",
       "      <td>59.0</td>\n",
       "      <td>17963.31</td>\n",
       "      <td>smart</td>\n",
       "      <td>Пермь</td>\n",
       "    </tr>\n",
       "    <tr>\n",
       "      <th>3212</th>\n",
       "      <td>1499</td>\n",
       "      <td>12.0</td>\n",
       "      <td>69.0</td>\n",
       "      <td>465.16</td>\n",
       "      <td>66.0</td>\n",
       "      <td>13055.58</td>\n",
       "      <td>smart</td>\n",
       "      <td>Пермь</td>\n",
       "    </tr>\n",
       "  </tbody>\n",
       "</table>\n",
       "<p>3213 rows × 8 columns</p>\n",
       "</div>"
      ],
      "text/plain": [
       "      user_id  month  count_calls  calls_total_duration  count_messages  \\\n",
       "0        1000    5.0         22.0                150.06            22.0   \n",
       "1        1000    6.0         43.0                158.90            60.0   \n",
       "2        1000    7.0         47.0                318.80            75.0   \n",
       "3        1000    8.0         52.0                389.87            81.0   \n",
       "4        1000    9.0         58.0                440.14            57.0   \n",
       "...       ...    ...          ...                   ...             ...   \n",
       "3208     1498   10.0         41.0                232.63            42.0   \n",
       "3209     1499    9.0          9.0                 64.65            11.0   \n",
       "3210     1499   10.0         68.0                429.91            48.0   \n",
       "3211     1499   11.0         74.0                576.50            59.0   \n",
       "3212     1499   12.0         69.0                465.16            66.0   \n",
       "\n",
       "      total_mb_used tariff         city  \n",
       "0           2253.49  ultra    Краснодар  \n",
       "1          23233.77  ultra    Краснодар  \n",
       "2          14003.64  ultra    Краснодар  \n",
       "3          14055.93  ultra    Краснодар  \n",
       "4          14568.91  ultra    Краснодар  \n",
       "...             ...    ...          ...  \n",
       "3208       20579.36  smart  Владикавказ  \n",
       "3209        1845.75  smart        Пермь  \n",
       "3210       17788.51  smart        Пермь  \n",
       "3211       17963.31  smart        Пермь  \n",
       "3212       13055.58  smart        Пермь  \n",
       "\n",
       "[3213 rows x 8 columns]"
      ]
     },
     "execution_count": 14,
     "metadata": {},
     "output_type": "execute_result"
    }
   ],
   "source": [
    "statistic_frame"
   ]
  },
  {
   "cell_type": "code",
   "execution_count": 15,
   "metadata": {},
   "outputs": [],
   "source": [
    "def get_income(row):\n",
    "    \"\"\"Функция высчитываяющая доход копании с конкретного абонента\n",
    "    \"\"\"\n",
    "    def get_extra(dict_of_param):\n",
    "        \"\"\" Функция вычисляющая минуты, потраченные абонентом сверх\n",
    "        базового пакета\n",
    "        \"\"\"\n",
    "        local_extra_min = 0\n",
    "        local_extra_sms = 0\n",
    "        local_extra_gb = 0\n",
    "        if row['calls_total_duration'] > dict_of_param['calls_total_duration']: \n",
    "            local_extra_min = row['calls_total_duration'] - dict_of_param['calls_total_duration']\n",
    "        if row['count_messages'] > dict_of_param['count_messages']:\n",
    "            local_extra_sms = row['count_messages'] - dict_of_param['count_messages']\n",
    "        if row['total_mb_used'] > dict_of_param['total_mb_used']:\n",
    "            local_extra_gb = (row['total_mb_used'] - dict_of_param['total_mb_used'])/1024\n",
    "        return local_extra_min, local_extra_sms, local_extra_gb   \n",
    "    \n",
    "    ultra_param = {\n",
    "        'calls_total_duration':3000,\n",
    "        'count_messages': 1000,\n",
    "        'total_mb_used': 30 * 1024\n",
    "    }\n",
    "    smart_param = {\n",
    "        'calls_total_duration':500,\n",
    "        'count_messages': 50,\n",
    "        'total_mb_used': 15 * 1024\n",
    "    }\n",
    "            \n",
    "    if row['tariff'] == 'ultra':\n",
    "        income = 1950\n",
    "        extra_min, extra_sms, extra_gb = get_extra(ultra_param)\n",
    "        income += extra_min + extra_sms + extra_gb * 150     \n",
    "    elif row['tariff'] == 'smart':\n",
    "        income = 550\n",
    "        extra_min, extra_sms, extra_gb = get_extra(smart_param)\n",
    "        income += 3 * extra_min + 3* extra_sms + extra_gb * 200 \n",
    "    return income"
   ]
  },
  {
   "cell_type": "code",
   "execution_count": 16,
   "metadata": {},
   "outputs": [],
   "source": [
    "statistic_frame['income'] = statistic_frame.apply(get_income, axis = 1)"
   ]
  },
  {
   "cell_type": "code",
   "execution_count": 17,
   "metadata": {
    "scrolled": true
   },
   "outputs": [
    {
     "data": {
      "text/html": [
       "<div>\n",
       "<style scoped>\n",
       "    .dataframe tbody tr th:only-of-type {\n",
       "        vertical-align: middle;\n",
       "    }\n",
       "\n",
       "    .dataframe tbody tr th {\n",
       "        vertical-align: top;\n",
       "    }\n",
       "\n",
       "    .dataframe thead th {\n",
       "        text-align: right;\n",
       "    }\n",
       "</style>\n",
       "<table border=\"1\" class=\"dataframe\">\n",
       "  <thead>\n",
       "    <tr style=\"text-align: right;\">\n",
       "      <th></th>\n",
       "      <th>user_id</th>\n",
       "      <th>month</th>\n",
       "      <th>count_calls</th>\n",
       "      <th>calls_total_duration</th>\n",
       "      <th>count_messages</th>\n",
       "      <th>total_mb_used</th>\n",
       "      <th>tariff</th>\n",
       "      <th>city</th>\n",
       "      <th>income</th>\n",
       "    </tr>\n",
       "  </thead>\n",
       "  <tbody>\n",
       "    <tr>\n",
       "      <th>0</th>\n",
       "      <td>1000</td>\n",
       "      <td>5.0</td>\n",
       "      <td>22.0</td>\n",
       "      <td>150.06</td>\n",
       "      <td>22.0</td>\n",
       "      <td>2253.49</td>\n",
       "      <td>ultra</td>\n",
       "      <td>Краснодар</td>\n",
       "      <td>1950.000000</td>\n",
       "    </tr>\n",
       "    <tr>\n",
       "      <th>1</th>\n",
       "      <td>1000</td>\n",
       "      <td>6.0</td>\n",
       "      <td>43.0</td>\n",
       "      <td>158.90</td>\n",
       "      <td>60.0</td>\n",
       "      <td>23233.77</td>\n",
       "      <td>ultra</td>\n",
       "      <td>Краснодар</td>\n",
       "      <td>1950.000000</td>\n",
       "    </tr>\n",
       "    <tr>\n",
       "      <th>2</th>\n",
       "      <td>1000</td>\n",
       "      <td>7.0</td>\n",
       "      <td>47.0</td>\n",
       "      <td>318.80</td>\n",
       "      <td>75.0</td>\n",
       "      <td>14003.64</td>\n",
       "      <td>ultra</td>\n",
       "      <td>Краснодар</td>\n",
       "      <td>1950.000000</td>\n",
       "    </tr>\n",
       "    <tr>\n",
       "      <th>3</th>\n",
       "      <td>1000</td>\n",
       "      <td>8.0</td>\n",
       "      <td>52.0</td>\n",
       "      <td>389.87</td>\n",
       "      <td>81.0</td>\n",
       "      <td>14055.93</td>\n",
       "      <td>ultra</td>\n",
       "      <td>Краснодар</td>\n",
       "      <td>1950.000000</td>\n",
       "    </tr>\n",
       "    <tr>\n",
       "      <th>4</th>\n",
       "      <td>1000</td>\n",
       "      <td>9.0</td>\n",
       "      <td>58.0</td>\n",
       "      <td>440.14</td>\n",
       "      <td>57.0</td>\n",
       "      <td>14568.91</td>\n",
       "      <td>ultra</td>\n",
       "      <td>Краснодар</td>\n",
       "      <td>1950.000000</td>\n",
       "    </tr>\n",
       "    <tr>\n",
       "      <th>...</th>\n",
       "      <td>...</td>\n",
       "      <td>...</td>\n",
       "      <td>...</td>\n",
       "      <td>...</td>\n",
       "      <td>...</td>\n",
       "      <td>...</td>\n",
       "      <td>...</td>\n",
       "      <td>...</td>\n",
       "      <td>...</td>\n",
       "    </tr>\n",
       "    <tr>\n",
       "      <th>3208</th>\n",
       "      <td>1498</td>\n",
       "      <td>10.0</td>\n",
       "      <td>41.0</td>\n",
       "      <td>232.63</td>\n",
       "      <td>42.0</td>\n",
       "      <td>20579.36</td>\n",
       "      <td>smart</td>\n",
       "      <td>Владикавказ</td>\n",
       "      <td>1569.406250</td>\n",
       "    </tr>\n",
       "    <tr>\n",
       "      <th>3209</th>\n",
       "      <td>1499</td>\n",
       "      <td>9.0</td>\n",
       "      <td>9.0</td>\n",
       "      <td>64.65</td>\n",
       "      <td>11.0</td>\n",
       "      <td>1845.75</td>\n",
       "      <td>smart</td>\n",
       "      <td>Пермь</td>\n",
       "      <td>550.000000</td>\n",
       "    </tr>\n",
       "    <tr>\n",
       "      <th>3210</th>\n",
       "      <td>1499</td>\n",
       "      <td>10.0</td>\n",
       "      <td>68.0</td>\n",
       "      <td>429.91</td>\n",
       "      <td>48.0</td>\n",
       "      <td>17788.51</td>\n",
       "      <td>smart</td>\n",
       "      <td>Пермь</td>\n",
       "      <td>1024.318359</td>\n",
       "    </tr>\n",
       "    <tr>\n",
       "      <th>3211</th>\n",
       "      <td>1499</td>\n",
       "      <td>11.0</td>\n",
       "      <td>74.0</td>\n",
       "      <td>576.50</td>\n",
       "      <td>59.0</td>\n",
       "      <td>17963.31</td>\n",
       "      <td>smart</td>\n",
       "      <td>Пермь</td>\n",
       "      <td>1314.958984</td>\n",
       "    </tr>\n",
       "    <tr>\n",
       "      <th>3212</th>\n",
       "      <td>1499</td>\n",
       "      <td>12.0</td>\n",
       "      <td>69.0</td>\n",
       "      <td>465.16</td>\n",
       "      <td>66.0</td>\n",
       "      <td>13055.58</td>\n",
       "      <td>smart</td>\n",
       "      <td>Пермь</td>\n",
       "      <td>598.000000</td>\n",
       "    </tr>\n",
       "  </tbody>\n",
       "</table>\n",
       "<p>3213 rows × 9 columns</p>\n",
       "</div>"
      ],
      "text/plain": [
       "      user_id  month  count_calls  calls_total_duration  count_messages  \\\n",
       "0        1000    5.0         22.0                150.06            22.0   \n",
       "1        1000    6.0         43.0                158.90            60.0   \n",
       "2        1000    7.0         47.0                318.80            75.0   \n",
       "3        1000    8.0         52.0                389.87            81.0   \n",
       "4        1000    9.0         58.0                440.14            57.0   \n",
       "...       ...    ...          ...                   ...             ...   \n",
       "3208     1498   10.0         41.0                232.63            42.0   \n",
       "3209     1499    9.0          9.0                 64.65            11.0   \n",
       "3210     1499   10.0         68.0                429.91            48.0   \n",
       "3211     1499   11.0         74.0                576.50            59.0   \n",
       "3212     1499   12.0         69.0                465.16            66.0   \n",
       "\n",
       "      total_mb_used tariff         city       income  \n",
       "0           2253.49  ultra    Краснодар  1950.000000  \n",
       "1          23233.77  ultra    Краснодар  1950.000000  \n",
       "2          14003.64  ultra    Краснодар  1950.000000  \n",
       "3          14055.93  ultra    Краснодар  1950.000000  \n",
       "4          14568.91  ultra    Краснодар  1950.000000  \n",
       "...             ...    ...          ...          ...  \n",
       "3208       20579.36  smart  Владикавказ  1569.406250  \n",
       "3209        1845.75  smart        Пермь   550.000000  \n",
       "3210       17788.51  smart        Пермь  1024.318359  \n",
       "3211       17963.31  smart        Пермь  1314.958984  \n",
       "3212       13055.58  smart        Пермь   598.000000  \n",
       "\n",
       "[3213 rows x 9 columns]"
      ]
     },
     "execution_count": 17,
     "metadata": {},
     "output_type": "execute_result"
    }
   ],
   "source": [
    "statistic_frame"
   ]
  },
  {
   "cell_type": "markdown",
   "metadata": {},
   "source": [
    "## Анализ собраных данных  <a class=\"anchor\" id = 'analysis_stat'></a>"
   ]
  },
  {
   "cell_type": "code",
   "execution_count": 18,
   "metadata": {
    "scrolled": true
   },
   "outputs": [
    {
     "data": {
      "text/html": [
       "<div>\n",
       "<style scoped>\n",
       "    .dataframe tbody tr th:only-of-type {\n",
       "        vertical-align: middle;\n",
       "    }\n",
       "\n",
       "    .dataframe tbody tr th {\n",
       "        vertical-align: top;\n",
       "    }\n",
       "\n",
       "    .dataframe thead tr th {\n",
       "        text-align: left;\n",
       "    }\n",
       "\n",
       "    .dataframe thead tr:last-of-type th {\n",
       "        text-align: right;\n",
       "    }\n",
       "</style>\n",
       "<table border=\"1\" class=\"dataframe\">\n",
       "  <thead>\n",
       "    <tr>\n",
       "      <th></th>\n",
       "      <th colspan=\"4\" halign=\"left\">median</th>\n",
       "      <th colspan=\"4\" halign=\"left\">mean</th>\n",
       "      <th colspan=\"4\" halign=\"left\">var</th>\n",
       "      <th colspan=\"4\" halign=\"left\">std</th>\n",
       "    </tr>\n",
       "    <tr>\n",
       "      <th></th>\n",
       "      <th>calls_total_duration</th>\n",
       "      <th>count_messages</th>\n",
       "      <th>income</th>\n",
       "      <th>total_mb_used</th>\n",
       "      <th>calls_total_duration</th>\n",
       "      <th>count_messages</th>\n",
       "      <th>income</th>\n",
       "      <th>total_mb_used</th>\n",
       "      <th>calls_total_duration</th>\n",
       "      <th>count_messages</th>\n",
       "      <th>income</th>\n",
       "      <th>total_mb_used</th>\n",
       "      <th>calls_total_duration</th>\n",
       "      <th>count_messages</th>\n",
       "      <th>income</th>\n",
       "      <th>total_mb_used</th>\n",
       "    </tr>\n",
       "    <tr>\n",
       "      <th>tariff</th>\n",
       "      <th></th>\n",
       "      <th></th>\n",
       "      <th></th>\n",
       "      <th></th>\n",
       "      <th></th>\n",
       "      <th></th>\n",
       "      <th></th>\n",
       "      <th></th>\n",
       "      <th></th>\n",
       "      <th></th>\n",
       "      <th></th>\n",
       "      <th></th>\n",
       "      <th></th>\n",
       "      <th></th>\n",
       "      <th></th>\n",
       "      <th></th>\n",
       "    </tr>\n",
       "  </thead>\n",
       "  <tbody>\n",
       "    <tr>\n",
       "      <th>smart</th>\n",
       "      <td>397.98</td>\n",
       "      <td>28.0</td>\n",
       "      <td>925.582031</td>\n",
       "      <td>16506.84</td>\n",
       "      <td>394.427026</td>\n",
       "      <td>33.384029</td>\n",
       "      <td>1197.628537</td>\n",
       "      <td>16208.386990</td>\n",
       "      <td>32386.395979</td>\n",
       "      <td>796.812958</td>\n",
       "      <td>589227.600734</td>\n",
       "      <td>3.446250e+07</td>\n",
       "      <td>179.962207</td>\n",
       "      <td>28.227876</td>\n",
       "      <td>767.611621</td>\n",
       "      <td>5870.476681</td>\n",
       "    </tr>\n",
       "    <tr>\n",
       "      <th>ultra</th>\n",
       "      <td>488.28</td>\n",
       "      <td>38.0</td>\n",
       "      <td>1950.000000</td>\n",
       "      <td>19311.93</td>\n",
       "      <td>497.573374</td>\n",
       "      <td>49.413618</td>\n",
       "      <td>2059.980573</td>\n",
       "      <td>19488.051169</td>\n",
       "      <td>89782.393134</td>\n",
       "      <td>2285.109519</td>\n",
       "      <td>126056.200780</td>\n",
       "      <td>1.014893e+08</td>\n",
       "      <td>299.637102</td>\n",
       "      <td>47.802819</td>\n",
       "      <td>355.043942</td>\n",
       "      <td>10074.189914</td>\n",
       "    </tr>\n",
       "  </tbody>\n",
       "</table>\n",
       "</div>"
      ],
      "text/plain": [
       "                     median                                            \\\n",
       "       calls_total_duration count_messages       income total_mb_used   \n",
       "tariff                                                                  \n",
       "smart                397.98           28.0   925.582031      16506.84   \n",
       "ultra                488.28           38.0  1950.000000      19311.93   \n",
       "\n",
       "                       mean                                            \\\n",
       "       calls_total_duration count_messages       income total_mb_used   \n",
       "tariff                                                                  \n",
       "smart            394.427026      33.384029  1197.628537  16208.386990   \n",
       "ultra            497.573374      49.413618  2059.980573  19488.051169   \n",
       "\n",
       "                        var                                              \\\n",
       "       calls_total_duration count_messages         income total_mb_used   \n",
       "tariff                                                                    \n",
       "smart          32386.395979     796.812958  589227.600734  3.446250e+07   \n",
       "ultra          89782.393134    2285.109519  126056.200780  1.014893e+08   \n",
       "\n",
       "                        std                                           \n",
       "       calls_total_duration count_messages      income total_mb_used  \n",
       "tariff                                                                \n",
       "smart            179.962207      28.227876  767.611621   5870.476681  \n",
       "ultra            299.637102      47.802819  355.043942  10074.189914  "
      ]
     },
     "execution_count": 18,
     "metadata": {},
     "output_type": "execute_result"
    }
   ],
   "source": [
    "statistic_frame.pivot_table(index = 'tariff', values = ['calls_total_duration',\n",
    "                                                        'count_messages',\n",
    "                                                        'total_mb_used','income'], aggfunc = [\"median\",\n",
    "                                                                                     \"mean\",\n",
    "                                                                                     'var',\n",
    "                                                                                     'std'])"
   ]
  },
  {
   "cell_type": "markdown",
   "metadata": {},
   "source": [
    "### Графики <a class=\"anchor\" id = 'graph'></a>"
   ]
  },
  {
   "cell_type": "code",
   "execution_count": 19,
   "metadata": {},
   "outputs": [
    {
     "data": {
      "image/png": "[encoded data removed]",
      "text/plain": [
       "<Figure size 432x288 with 1 Axes>"
      ]
     },
     "metadata": {
      "needs_background": "light"
     },
     "output_type": "display_data"
    },
    {
     "data": {
      "image/png": "[encoded data removed]",
      "text/plain": [
       "<Figure size 432x288 with 1 Axes>"
      ]
     },
     "metadata": {
      "needs_background": "light"
     },
     "output_type": "display_data"
    },
    {
     "data": {
      "image/png": "[encoded data removed]",
      "text/plain": [
       "<Figure size 432x288 with 1 Axes>"
      ]
     },
     "metadata": {
      "needs_background": "light"
     },
     "output_type": "display_data"
    },
    {
     "data": {
      "image/png": "[encoded data removed]",
      "text/plain": [
       "<Figure size 432x288 with 1 Axes>"
      ]
     },
     "metadata": {
      "needs_background": "light"
     },
     "output_type": "display_data"
    },
    {
     "data": {
      "image/png": "[encoded data removed]",
      "text/plain": [
       "<Figure size 432x288 with 1 Axes>"
      ]
     },
     "metadata": {
      "needs_background": "light"
     },
     "output_type": "display_data"
    },
    {
     "data": {
      "image/png": "[encoded data removed]",
      "text/plain": [
       "<Figure size 432x288 with 1 Axes>"
      ]
     },
     "metadata": {
      "needs_background": "light"
     },
     "output_type": "display_data"
    }
   ],
   "source": [
    "list_of_columns=['calls_total_duration','count_messages','total_mb_used']\n",
    "tariffs = ['ultra','smart']\n",
    "for column in list_of_columns:\n",
    "    for tariff in tariffs:\n",
    "        statistic_frame.loc[statistic_frame.loc[:,'tariff'] == tariff][column].plot(\n",
    "                                                                            kind = 'hist',\n",
    "                                                                            bins = 30,\n",
    "                                                                           )\n",
    "        plt.title(str(tariff+'____'+column) )\n",
    "        plt.show()"
   ]
  },
  {
   "cell_type": "markdown",
   "metadata": {},
   "source": [
    "На гистограмах можно заметить что,у тарифа ultra гистрограмы скошены вправо, а в тарифе smart гистограмы скошены влево. Это так же подтверждают данные медианы и среднего, приведенные в сводной таблице. Кроме этого можно заметить, что пользователи тарифа ultra не тратят весь базовый пакет минут и количесва смс, в отличие от тарифа smart"
   ]
  },
  {
   "cell_type": "markdown",
   "metadata": {},
   "source": [
    "## Проверка гипотез  <a class=\"anchor\" id = 'hypothesis'></a>"
   ]
  },
  {
   "cell_type": "markdown",
   "metadata": {},
   "source": [
    "### Первая гипотеза <a class=\"anchor\" id = 'first_hypothesis'></a>"
   ]
  },
  {
   "cell_type": "markdown",
   "metadata": {},
   "source": [
    "Гипотеза 1 : средняя выручка пользователей тарифов «Ультра» и «Смарт» различается"
   ]
  },
  {
   "cell_type": "markdown",
   "metadata": {},
   "source": [
    "Если мы проверим обратную гипотезу на равенство и она не подтвердиться, то мы сможем сказать, что гипотеза 1 верна"
   ]
  },
  {
   "cell_type": "code",
   "execution_count": 20,
   "metadata": {
    "scrolled": true
   },
   "outputs": [
    {
     "name": "stdout",
     "output_type": "stream",
     "text": [
      "Отвергаем альтернативную гипотезу\n"
     ]
    }
   ],
   "source": [
    "alpha = 0.05\n",
    "income_ultra = statistic_frame.loc[statistic_frame.loc[:,'tariff'] == 'ultra']['income']\n",
    "income_smart = statistic_frame.loc[statistic_frame.loc[:,'tariff'] == 'smart']['income']\n",
    "result = st.ttest_ind(income_smart,income_ultra,equal_var=False) \n",
    "prob = result.pvalue\n",
    "if prob < alpha:\n",
    "    print(\"Отвергаем альтернативную гипотезу\")\n",
    "else:\n",
    "    print(\"Не получилось альтернативную гипотезу\")\n",
    "    "
   ]
  },
  {
   "cell_type": "markdown",
   "metadata": {},
   "source": [
    "проверка показала, что мы отвергаем гипотезу о том, что среднее значение дохода абонентов 2 тарифов равны, слеовательно подтверждаем гипотезу 1"
   ]
  },
  {
   "cell_type": "markdown",
   "metadata": {},
   "source": [
    "### Вторая гипотеза  <a class=\"anchor\" id = 'second_hypothesis'></a>"
   ]
  },
  {
   "cell_type": "markdown",
   "metadata": {},
   "source": [
    "Гипотеза 2: Средняя выручка пользователей из Москвы отличается от выручки пользователей из других регионов"
   ]
  },
  {
   "cell_type": "code",
   "execution_count": 21,
   "metadata": {},
   "outputs": [
    {
     "name": "stdout",
     "output_type": "stream",
     "text": [
      "Не получилось отвергнуть гипотезу 2\n"
     ]
    }
   ],
   "source": [
    "alpha = 0.05\n",
    "income_ultra = statistic_frame.loc[statistic_frame.loc[:,'city'] == 'Moscow']['income']\n",
    "income_smart = statistic_frame.loc[statistic_frame.loc[:,'city'] != 'Moscow']['income']\n",
    "result = st.ttest_ind(income_smart,income_ultra,equal_var=False) \n",
    "prob = result.pvalue\n",
    "if prob < alpha:\n",
    "    print(\"Отвергаем гипотезу 2\")\n",
    "else:\n",
    "    print(\"Не получилось отвергнуть гипотезу 2\")"
   ]
  },
  {
   "cell_type": "markdown",
   "metadata": {},
   "source": [
    "## Вывод <a class=\"anchor\" id = 'Summary'></a>"
   ]
  },
  {
   "cell_type": "markdown",
   "metadata": {},
   "source": [
    "Рекламный бюджет выгоднее всего преераспределить в пользу тарифа ultra, несмотря на то, что его абоненты не покупают дополнительные минуты и смс, в отличие от абонентов тарифа smart. Так же можно заметить, что мидианное и среднее значение дохода у абонентов тарифа ultra выше."
   ]
  }
 ],
 "metadata": {
  "kernelspec": {
   "display_name": "Python 3",
   "language": "python",
   "name": "python3"
  },
  "language_info": {
   "codemirror_mode": {
    "name": "ipython",
    "version": 3
   },
   "file_extension": ".py",
   "mimetype": "text/x-python",
   "name": "python",
   "nbconvert_exporter": "python",
   "pygments_lexer": "ipython3",
   "version": "3.7.4"
  }
 },
 "nbformat": 4,
 "nbformat_minor": 2
}
